{
 "cells": [
  {
   "cell_type": "code",
   "execution_count": 2,
   "metadata": {},
   "outputs": [
    {
     "name": "stdout",
     "output_type": "stream",
     "text": [
      "Requirement already satisfied: textblob in /opt/anaconda3/lib/python3.11/site-packages (0.18.0.post0)\n",
      "Requirement already satisfied: nltk>=3.8 in /opt/anaconda3/lib/python3.11/site-packages (from textblob) (3.8.1)\n",
      "Requirement already satisfied: click in /opt/anaconda3/lib/python3.11/site-packages (from nltk>=3.8->textblob) (8.1.7)\n",
      "Requirement already satisfied: joblib in /opt/anaconda3/lib/python3.11/site-packages (from nltk>=3.8->textblob) (1.4.0)\n",
      "Requirement already satisfied: regex>=2021.8.3 in /opt/anaconda3/lib/python3.11/site-packages (from nltk>=3.8->textblob) (2023.10.3)\n",
      "Requirement already satisfied: tqdm in /opt/anaconda3/lib/python3.11/site-packages (from nltk>=3.8->textblob) (4.64.1)\n",
      "Note: you may need to restart the kernel to use updated packages.\n"
     ]
    }
   ],
   "source": [
    "%pip install textblob"
   ]
  },
  {
   "cell_type": "code",
   "execution_count": 1,
   "metadata": {},
   "outputs": [],
   "source": [
    "from textblob import TextBlob"
   ]
  },
  {
   "cell_type": "code",
   "execution_count": 2,
   "metadata": {},
   "outputs": [],
   "source": [
    "class NaiveChatBot:\n",
    "\n",
    "    def __init__(self) -> None:\n",
    "        self.sentiment_analyzer = TextBlob(\"\")\n",
    "\n",
    "    def chat(self):\n",
    "        print(\"Hello! I am chatbot, how can I help you?\")\n",
    "\n",
    "        while True:\n",
    "            user_message = input(\"You: \").strip().lower()\n",
    "\n",
    "            # Analyze the sentiment of the user message\n",
    "            self.sentiment_analyzer = TextBlob(user_message)\n",
    "            sentiment_score = self.sentiment_analyzer.sentiment.polarity\n",
    "\n",
    "            # Generate chatbot response based on sentiment\n",
    "            if sentiment_score > 0:\n",
    "                chatbot_message = f\"Chatbot: that's great to hear! \\n Sentiment Score: {sentiment_score} \\n\"\n",
    "            elif sentiment_score < 0:\n",
    "                chatbot_message = f\"Chatbot: I'm sorry to hear that. \\n Sentiment Score: {sentiment_score} \\n\"\n",
    "            else:\n",
    "                chatbot_message = f\"Chatbot: I see. \\n Sentiment Score: {sentiment_score} \\n\"\n",
    "\n",
    "            # Printing the chatbot response and sentiment score\n",
    "            print(chatbot_message)"
   ]
  },
  {
   "cell_type": "code",
   "execution_count": 3,
   "metadata": {},
   "outputs": [
    {
     "name": "stdout",
     "output_type": "stream",
     "text": [
      "Hello! I am chatbot, how can I help you?\n",
      "Chatbot: I see. \n",
      " Sentiment Score: 0.0 \n",
      "\n",
      "Chatbot: that's great to hear! \n",
      " Sentiment Score: 0.2 \n",
      "\n",
      "Chatbot: I see. \n",
      " Sentiment Score: 0.0 \n",
      "\n",
      "Chatbot: I'm sorry to hear that. \n",
      " Sentiment Score: -0.5 \n",
      "\n",
      "Chatbot: that's great to hear! \n",
      " Sentiment Score: 0.2 \n",
      "\n",
      "Chatbot: I see. \n",
      " Sentiment Score: 0.0 \n",
      "\n",
      "Chatbot: I see. \n",
      " Sentiment Score: 0.0 \n",
      "\n",
      "Chatbot: I see. \n",
      " Sentiment Score: 0.0 \n",
      "\n",
      "Chatbot: I see. \n",
      " Sentiment Score: 0.0 \n",
      "\n"
     ]
    }
   ],
   "source": [
    "NaiveChatBot().chat()"
   ]
  },
  {
   "cell_type": "code",
   "execution_count": null,
   "metadata": {},
   "outputs": [],
   "source": []
  }
 ],
 "metadata": {
  "kernelspec": {
   "display_name": "base",
   "language": "python",
   "name": "python3"
  },
  "language_info": {
   "codemirror_mode": {
    "name": "ipython",
    "version": 3
   },
   "file_extension": ".py",
   "mimetype": "text/x-python",
   "name": "python",
   "nbconvert_exporter": "python",
   "pygments_lexer": "ipython3",
   "version": "3.11.5"
  }
 },
 "nbformat": 4,
 "nbformat_minor": 2
}
